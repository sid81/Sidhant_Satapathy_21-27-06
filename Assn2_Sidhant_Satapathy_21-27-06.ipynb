{
 "cells": [
  {
   "cell_type": "markdown",
   "id": "99966294",
   "metadata": {},
   "source": [
    "Assignment 2 : AM624D (DS: Tools and Techniques)\n",
    "\n",
    "Submitted By : Sidhant satapathy\n",
    "\n",
    "Reg. No. : 21-27-06 (Data Science)\n",
    "\n",
    "\n",
    "\n",
    "\n",
    "\n",
    "## 1. add of two no"
   ]
  },
  {
   "cell_type": "code",
   "execution_count": 4,
   "id": "27b814b9",
   "metadata": {},
   "outputs": [
    {
     "name": "stdout",
     "output_type": "stream",
     "text": [
      "Enter two numbers:23 90\n",
      "Addition of given numbers is: 113\n"
     ]
    }
   ],
   "source": [
    "a,b=input(\"Enter two numbers:\").split(\" \")#it takes as string which is separated by space\n",
    "sum=int(a)+int(b)#Then it converts string to integer both the input\n",
    "print(\"Addition of given numbers is:\",sum)"
   ]
  },
  {
   "cell_type": "markdown",
   "id": "bd8a7b7d",
   "metadata": {},
   "source": [
    "## 2.Grade of a student\n"
   ]
  },
  {
   "cell_type": "code",
   "execution_count": 8,
   "id": "48a2b51f",
   "metadata": {},
   "outputs": [
    {
     "name": "stdout",
     "output_type": "stream",
     "text": [
      "Enter marks of alll subjects respectively:90,89,64,51,77,50\n",
      "Avg mark is: 70.16666666666667\n",
      "Grade:A\n"
     ]
    }
   ],
   "source": [
    "ML,DL,CV,IP,DTT,BD=input(\"Enter marks of alll subjects respectively:\").split(\",\")\n",
    "\n",
    "sum=(float(ML)+float(DL)+float(CV)+float(IP)+float(DTT)+float(BD))/6\n",
    "print(\"Avg mark is:\",sum)\n",
    "if sum>90:\n",
    "    print(\"Grade:O\")\n",
    "elif sum>80 and sum<=90:\n",
    "    print(\"Grade:E\")\n",
    "elif sum>70 and sum<=80:\n",
    "    print(\"Grade:A\")\n",
    "elif sum>60 and sum<=70:\n",
    "    print(\"Grade:B\")\n",
    "elif sum>50 and sum<=60:\n",
    "    print(\"Grade:C\")\n",
    "elif sum>40 and sum<=50:\n",
    "    print(\"Grade:D\")\n",
    "elif sum<=40:\n",
    "    print(\"Grade:F\")\n"
   ]
  },
  {
   "cell_type": "markdown",
   "id": "a17dc2b3",
   "metadata": {},
   "source": [
    "## 3.Largest among 3 numbers"
   ]
  },
  {
   "cell_type": "code",
   "execution_count": 16,
   "id": "52742884",
   "metadata": {},
   "outputs": [
    {
     "name": "stdout",
     "output_type": "stream",
     "text": [
      "Enter marks of all subjects respectively:33 55 10\n",
      "greatest: 55\n"
     ]
    }
   ],
   "source": [
    "a,b,c = input(\"Enter marks of all subjects respectively:\").split(\" \")\n",
    "a=int(a)\n",
    "b=int(b)\n",
    "c=int(c)\n",
    "if (a>b) and (a>c):\n",
    "    print(\"Greatest:\",a)\n",
    "elif (b>c) and (b>a):\n",
    "    print(\"greatest:\",b)\n",
    "else:\n",
    "    print(\"greatest:\",c)"
   ]
  },
  {
   "cell_type": "markdown",
   "id": "ec1c25e3",
   "metadata": {},
   "source": [
    "## 4.pattern"
   ]
  },
  {
   "cell_type": "code",
   "execution_count": 57,
   "id": "c2b039bd",
   "metadata": {},
   "outputs": [
    {
     "name": "stdout",
     "output_type": "stream",
     "text": [
      "Enter the no of lines:5\n",
      "*\n",
      "**\n",
      "***\n",
      "****\n",
      "*****\n"
     ]
    }
   ],
   "source": [
    "n=int(input(\"Enter the no of lines:\"))\n",
    "for i in range(n):\n",
    "    print(\"*\"*(i+1))\n",
    "    \n",
    "   "
   ]
  },
  {
   "cell_type": "markdown",
   "id": "6c94e006",
   "metadata": {},
   "source": [
    "## 5.Diamond pattern\n"
   ]
  },
  {
   "cell_type": "code",
   "execution_count": 60,
   "id": "e8859e46",
   "metadata": {},
   "outputs": [
    {
     "name": "stdout",
     "output_type": "stream",
     "text": [
      "Enter the no of lines:5\n",
      "    * \n",
      "   * * \n",
      "  * * * \n",
      " * * * * \n",
      "* * * * * \n",
      " * * * * \n",
      "  * * * \n",
      "   * * \n",
      "    * \n"
     ]
    }
   ],
   "source": [
    "n=int(input(\"Enter the height of diamond:\"))\n",
    "for i in range(n):\n",
    "    print(\" \"*(n-i-1)+\"* \"*(i+1))\n",
    "for j in range(n-1):\n",
    "    print(\" \"*(j+1)+\"* \"*(n-1-j))\n",
    "    "
   ]
  },
  {
   "cell_type": "markdown",
   "id": "d7d75cc0",
   "metadata": {},
   "source": [
    "## 6.pattern\n"
   ]
  },
  {
   "cell_type": "code",
   "execution_count": 5,
   "id": "0cdf3d2c",
   "metadata": {},
   "outputs": [
    {
     "name": "stdout",
     "output_type": "stream",
     "text": [
      "Enter the height of diamond:3\n",
      "*\n",
      "**\n",
      "***\n",
      "**\n",
      "*\n"
     ]
    }
   ],
   "source": [
    "n=int(input(\"Enter the height of diamond:\"))\n",
    "for i in range(n):\n",
    "    print(\"*\"*(i+1))\n",
    "for j in range(n-1):\n",
    "    print(\"*\"*(n-1-j))"
   ]
  },
  {
   "cell_type": "markdown",
   "id": "cdbdd3f0",
   "metadata": {},
   "source": [
    "## 7.list"
   ]
  },
  {
   "cell_type": "code",
   "execution_count": 19,
   "id": "3ba5b223",
   "metadata": {},
   "outputs": [
    {
     "name": "stdout",
     "output_type": "stream",
     "text": [
      "6\n",
      "1\n",
      "[1, 2, 3.4, 5, 3.4, 'asawahan', 'fall of kiev']\n",
      "[1, 2, 3.4, 5, 3.4, 'asawahan', 'fall of kiev', 89]\n",
      "fall of kiev\n",
      "[1, 2, 5, 3.4, 'asawahan', 'fall of kiev', 89]\n",
      "[89, 'fall of kiev', 'asawahan', 3.4, 5, 2, 1]\n",
      "[12, 22, 55, 78, 87, 90]\n"
     ]
    }
   ],
   "source": [
    "number=[1,2,3.4,5,3.4,\"asawahan\"]\n",
    "print(len(number))\n",
    "print(number[0])\n",
    "number=number+[\"fall of kiev\"]\n",
    "print(number)\n",
    "number.append(89)\n",
    "print(number)\n",
    "print(number[-2])\n",
    "number.remove(3.4)\n",
    "print(number)\n",
    "number.reverse()\n",
    "print(number)\n",
    "list=[22,12,87,78,90,55]\n",
    "list.sort()\n",
    "print(list)"
   ]
  },
  {
   "cell_type": "markdown",
   "id": "6ac63172",
   "metadata": {},
   "source": [
    "## 8.dict"
   ]
  },
  {
   "cell_type": "code",
   "execution_count": 2,
   "id": "0f833d66",
   "metadata": {},
   "outputs": [
    {
     "name": "stdout",
     "output_type": "stream",
     "text": [
      "{'name': 'sidhant', 'age': 40} <class 'dict'>\n",
      "{'name': 'java', 'est': 1991}\n",
      "sidhant 1991\n",
      "{'name': 'sidhant', 'clg': 'diat', 'fav_actress': ['indian', 'russian']} \n",
      " <class 'list'>\n",
      "dict_keys(['name', 'age'])\n",
      "dict_values(['sidhant', 'diat', ['indian', 'russian']])\n",
      "dict_items([('name', 'sidhant'), ('clg', 'diat'), ('fav_actress', ['indian', 'russian'])])\n"
     ]
    }
   ],
   "source": [
    "#dict are unordered collection of data in key:value pair\n",
    "#How to create dictionary\n",
    "user={\"name\":\"sidhant\",\n",
    "       \"age\":40}\n",
    "print(user,type(user))#both must be in quptation like string\n",
    "\n",
    "#second method to crate dict\n",
    "user1=dict(name=\"java\",est=1991)\n",
    "print(user1)\n",
    "\n",
    "#how to access data from dict\n",
    "#there is no index in dict\n",
    "print(user['name'],user1['est'])\n",
    "\n",
    "#dict can store string,list,dictionary\n",
    "user_info={\n",
    "    'name':'sidhant',\n",
    "    \"clg\":'diat',\n",
    "    'fav_actress':['indian','russian']\n",
    "}\n",
    "print(user_info,\"\\n\",type(user_info['fav_actress']))\n",
    "# Accessing keys for the dictionary\n",
    "print(user.keys())\n",
    "# Accessing keys for the dictionary\n",
    "print(user_info.values())\n",
    "# Printing all the items of the Dictionary\n",
    "print(user_info.items())"
   ]
  },
  {
   "cell_type": "markdown",
   "id": "d0927ee9",
   "metadata": {},
   "source": [
    "## 10.tuple"
   ]
  },
  {
   "cell_type": "code",
   "execution_count": 27,
   "id": "a6d3b410",
   "metadata": {},
   "outputs": [
    {
     "name": "stdout",
     "output_type": "stream",
     "text": [
      "('mon-22', 'tue-19', 'wed-05')\n",
      "('mon-22', 'tue-19')\n",
      "1\n",
      "22\n",
      "3\n",
      "5\n",
      "9.78\n",
      "(1, 22, 3, 5, 9.78)\n",
      "<class 'int'>\n",
      "<class 'tuple'> <class 'tuple'>\n",
      "<class 'tuple'>\n",
      "mangol jamal landscape\n",
      "['radhe', 'syham'] <class 'tuple'> <class 'list'>\n",
      "radhe\n"
     ]
    }
   ],
   "source": [
    "#tuples are faster than lists\n",
    "example=('mon-22','tue-19','wed-05')\n",
    "#no append,no pop,no remove,no inser\n",
    "#you can perform count,index,len,slicing\n",
    "print(example)\n",
    "print(example[:2])\n",
    "\n",
    "#looping in tuples\n",
    "mixing=(1,22,3,5,9.78)\n",
    "for i in mixing:\n",
    "    print(i)\n",
    "print(mixing)\n",
    "\n",
    "#tuple with one element\n",
    "num=(1)#not a tuple,but integer\n",
    "print(type(num))\n",
    "num=(1,)#now it is atuple=so you have to add comma\n",
    "wods=(\"stve\",)#for tuple add comma\n",
    "print(type(num),type(wods))\n",
    "\n",
    "#tuple without parenthesis\n",
    "guitar=\"bthoven\",\"yamaha\",\"tyler\"\n",
    "print(type(guitar))\n",
    "\n",
    "#tuple unpacking\n",
    "guitarist=(\"mangol\",\"jamal\",\"landscape\")\n",
    "g1,g2,g3=(guitarist)\n",
    "print(g1,g2,g3)\n",
    "\n",
    "#list inside tuple\n",
    "favrt=(22,[\"radhe\",'syham'])\n",
    "print(favrt[1],type(favrt),type(favrt[1]))\n",
    "print(favrt[1].pop(0))\n"
   ]
  },
  {
   "cell_type": "markdown",
   "id": "8cd880c2",
   "metadata": {},
   "source": [
    "## 11.median\n"
   ]
  },
  {
   "cell_type": "code",
   "execution_count": 32,
   "id": "c843cefd",
   "metadata": {},
   "outputs": [
    {
     "name": "stdout",
     "output_type": "stream",
     "text": [
      "Median of the list is: 9.5\n"
     ]
    }
   ],
   "source": [
    "list = [4, 5, 9, 10, 14, 17]\n",
    "list.sort()\n",
    "mid = len(list) // 2\n",
    "res = (list[mid] + list[~mid]) / 2\n",
    "print(\"Median of the list is:\",res)"
   ]
  },
  {
   "cell_type": "markdown",
   "id": "9160b819",
   "metadata": {},
   "source": [
    "## 12.mode"
   ]
  },
  {
   "cell_type": "code",
   "execution_count": 42,
   "id": "8297a0aa",
   "metadata": {},
   "outputs": [
    {
     "data": {
      "text/plain": [
       "2"
      ]
     },
     "execution_count": 42,
     "metadata": {},
     "output_type": "execute_result"
    }
   ],
   "source": [
    "import statistics as st1\n",
    "statistics.mode([4, 1, 2, 2, 3, 5])"
   ]
  },
  {
   "cell_type": "markdown",
   "id": "accec149",
   "metadata": {},
   "source": [
    "## 13.mean"
   ]
  },
  {
   "cell_type": "code",
   "execution_count": 44,
   "id": "71ecad58",
   "metadata": {},
   "outputs": [
    {
     "data": {
      "text/plain": [
       "5.2"
      ]
     },
     "execution_count": 44,
     "metadata": {},
     "output_type": "execute_result"
    }
   ],
   "source": [
    "import statistics\n",
    "statistics.mean([4, 8, 6, 5, 3, 2, 8, 9, 2, 5])"
   ]
  },
  {
   "cell_type": "markdown",
   "id": "fde9c1e0",
   "metadata": {},
   "source": [
    "## 14.nested_list"
   ]
  },
  {
   "cell_type": "code",
   "execution_count": 4,
   "id": "9bf272bd",
   "metadata": {},
   "outputs": [
    {
     "name": "stdout",
     "output_type": "stream",
     "text": [
      "[1, 3, 92, 75.4, 'millions', 21]\n",
      "Appending an entire list to another List : [1, 3, 92, 75.4, 'millions', 21, [22, 132, 190]]\n",
      "Adding Two lists :  [1, 3, 92, 75.4, 'millions', 21, [22, 132, 190], 22, 132, 190]\n"
     ]
    }
   ],
   "source": [
    "list_1 = [1,3,92,75.4,'millions',21]\n",
    "print(list_1)\n",
    "list_2 = [22,132,190]\n",
    "list_1.append(list_2)\n",
    "print(f\"Appending an entire list to another List : {list_1}\")#Nested list\n",
    "list_1 = list_1 + list_2\n",
    "print(\"Adding Two lists : \",list_1)"
   ]
  },
  {
   "cell_type": "markdown",
   "id": "f0ded394",
   "metadata": {},
   "source": [
    "## 15.slicing"
   ]
  },
  {
   "cell_type": "code",
   "execution_count": 9,
   "id": "0adcfdd2",
   "metadata": {},
   "outputs": [
    {
     "name": "stdout",
     "output_type": "stream",
     "text": [
      "[1, 19, 12, 16, 25, 8, 23]\n",
      "[2, 1, 19, 12, 16, 25, 8, 23]\n",
      "[2, 19, 16, 8]\n"
     ]
    }
   ],
   "source": [
    "list = [2,1,19,12,16,25,8,23]\n",
    "#LIST SLICING :  List[ Initial : End : IndexJump ]     \n",
    "print(list[1:])\n",
    "print(list[::])\n",
    "print(list[:8:2])"
   ]
  },
  {
   "cell_type": "markdown",
   "id": "d614832c",
   "metadata": {},
   "source": [
    "## 16.min & max of list"
   ]
  },
  {
   "cell_type": "code",
   "execution_count": 13,
   "id": "11ab64e8",
   "metadata": {},
   "outputs": [
    {
     "name": "stdout",
     "output_type": "stream",
     "text": [
      "1\n",
      "25\n"
     ]
    }
   ],
   "source": [
    "list1 = [2,1,19,12,16,25,8,23]\n",
    "\n",
    "print(min(list1))\n",
    "print(max(list1))"
   ]
  },
  {
   "cell_type": "markdown",
   "id": "50da1344",
   "metadata": {},
   "source": [
    "## 17.count or occurence of list\n"
   ]
  },
  {
   "cell_type": "code",
   "execution_count": 23,
   "id": "26519a33",
   "metadata": {},
   "outputs": [
    {
     "name": "stdout",
     "output_type": "stream",
     "text": [
      "Enter the number : 0\n",
      "5\n"
     ]
    }
   ],
   "source": [
    "list_count = [0,56.90,66,14,66,0,19,56,32,74,0,0,66,0]\n",
    "a= int(input(\"Enter the number : \"))\n",
    "print(list_count.count(a))\n"
   ]
  },
  {
   "cell_type": "markdown",
   "id": "fae6b3b2",
   "metadata": {},
   "source": [
    "## 18.2d_list"
   ]
  },
  {
   "cell_type": "code",
   "execution_count": 27,
   "id": "9469cd39",
   "metadata": {},
   "outputs": [
    {
     "name": "stdout",
     "output_type": "stream",
     "text": [
      "2D list : [[1, 2, 3, 11, 12, 13], [5, 15, 25, 35], [10, 6, 2]]\n",
      "[1, 2, 3, 11, 12, 13]\n",
      "[5, 15, 25, 35]\n",
      "[10, 6, 2]\n"
     ]
    }
   ],
   "source": [
    "list_2D = [[1,2,3,11,12,13], [5,15,25,35], [10,6,2]]\n",
    "print(\"2D list :\",list_2D)\n",
    "for i in list_2D:\n",
    "    print(i)"
   ]
  },
  {
   "cell_type": "markdown",
   "id": "e608a3da",
   "metadata": {},
   "source": [
    "## 19.2d list\n"
   ]
  },
  {
   "cell_type": "code",
   "execution_count": 33,
   "id": "0ba23639",
   "metadata": {},
   "outputs": [
    {
     "name": "stdout",
     "output_type": "stream",
     "text": [
      "1 2 3 11 12 13 \n",
      "5 15 25 35 \n",
      "10 6 2 \n",
      "\n",
      "\n",
      "1 2 3 11 12 13 \n",
      "5 15 25 35 \n",
      "10 6 2 \n"
     ]
    }
   ],
   "source": [
    "td_list = [[1,2,3,11,12,13], [5,15,25,35], [10,6,2]]\n",
    "\n",
    "# Method 1\n",
    "for i in range(len(td_list)):\n",
    "    for j in range(len(td_list[i])):\n",
    "        print(td_list[i][j], end=' ')\n",
    "    print()\n",
    "\n",
    "print(\"\\n\")\n",
    "\n",
    "# Method 2\n",
    "for i in td_list:\n",
    "    for j in i :\n",
    "        print(j, end = \" \")\n",
    "    print()"
   ]
  },
  {
   "cell_type": "markdown",
   "id": "e6e5f545",
   "metadata": {},
   "source": [
    "## 20.spilt & join in list"
   ]
  },
  {
   "cell_type": "code",
   "execution_count": 35,
   "id": "7441f7ed",
   "metadata": {},
   "outputs": [
    {
     "name": "stdout",
     "output_type": "stream",
     "text": [
      "List :  [12, 19, 21, 29]\n",
      "After Splitting:\n",
      "first half :  [12, 19]\n",
      "second half :  [21, 29]\n",
      "Joining Operation : \n",
      "List1 : ['Hello', 'World']\n",
      "List2 : [1, 2, 3]\n",
      "['Hello', 'World', 1, 2, 3]\n"
     ]
    }
   ],
   "source": [
    "#1 Splitting a list\n",
    "list = [12,19,21,29]\n",
    "print('List : ',list)\n",
    "print('After Splitting:')\n",
    "middle_index = int(len(list)/2)\n",
    "first_half = list[:middle_index]\n",
    "second_half = list[middle_index:]\n",
    "print('first half : ',first_half)\n",
    "print('second half : ',second_half)\n",
    "\n",
    "#2 Joining \n",
    "print(\"Joining Operation : \")\n",
    "list1 = [\"Hello\", \"World\" ]\n",
    "list2 = [1, 2, 3]\n",
    "print('List1 :',list1)\n",
    "print('List2 :',list2)\n",
    "list3 = list1 + list2\n",
    "print(list3)"
   ]
  }
 ],
 "metadata": {
  "kernelspec": {
   "display_name": "Python 3 (ipykernel)",
   "language": "python",
   "name": "python3"
  },
  "language_info": {
   "codemirror_mode": {
    "name": "ipython",
    "version": 3
   },
   "file_extension": ".py",
   "mimetype": "text/x-python",
   "name": "python",
   "nbconvert_exporter": "python",
   "pygments_lexer": "ipython3",
   "version": "3.9.7"
  }
 },
 "nbformat": 4,
 "nbformat_minor": 5
}
